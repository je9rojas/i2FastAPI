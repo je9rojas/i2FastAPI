{
 "cells": [
  {
   "cell_type": "markdown",
   "metadata": {
    "collapsed": false,
    "pycharm": {
     "name": "#%% md\n"
    }
   },
   "source": []
  },
  {
   "cell_type": "markdown",
   "metadata": {
    "collapsed": false,
    "pycharm": {
     "name": "#%% md\n"
    }
   },
   "source": [
    "- sudo apt install python3-virtualenv\n",
    "- python3 -m venv <name>\n",
    "- source /home/xef/Documents/2022/Henrylab/i2FastAPI/venv/bin/activate\n",
    "- uvicorn main:app --reload\n",
    "- uvicorn app.main:app --reload"
   ]
  },
  {
   "cell_type": "markdown",
   "metadata": {
    "collapsed": false,
    "pycharm": {
     "name": "#%% md\n"
    }
   },
   "source": []
  }
 ],
 "metadata": {
  "kernelspec": {
   "display_name": "Python 3.10.4 ('venv': venv)",
   "language": "python",
   "name": "python3"
  },
  "language_info": {
   "codemirror_mode": {
    "name": "ipython",
    "version": 2
   },
   "file_extension": ".py",
   "mimetype": "text/x-python",
   "name": "python",
   "nbconvert_exporter": "python",
   "pygments_lexer": "ipython2",
   "version": "3.10.4"
  },
  "vscode": {
   "interpreter": {
    "hash": "3f3f11debacb55fde55cbfc08a5e185db9b786379c9c10cf3934a5193283ae6c"
   }
  }
 },
 "nbformat": 4,
 "nbformat_minor": 0
}
